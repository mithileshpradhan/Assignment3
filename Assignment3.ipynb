{
 "cells": [
  {
   "cell_type": "markdown",
   "metadata": {},
   "source": [
    "###  Task 1:  \n",
    "**1.Write a function to compute 5/0 and use try/except to catch the exceptions.**"
   ]
  },
  {
   "cell_type": "code",
   "execution_count": 2,
   "metadata": {},
   "outputs": [
    {
     "name": "stdout",
     "output_type": "stream",
     "text": [
      "Error:  division by zero\n"
     ]
    }
   ],
   "source": [
    "def compute():\n",
    "    try:\n",
    "        result = 5/0\n",
    "        print(result)\n",
    "    except Exception as e:\n",
    "        print(\"Error: \",e)\n",
    "        \n",
    "compute()"
   ]
  },
  {
   "cell_type": "markdown",
   "metadata": {},
   "source": [
    "**2.Implement a Python program to generate all sentences where subject is in [\"Americans\", \"Indians\"] and verb is in [\"Play\", \"watch\"] and the object is in [\"Baseball\",\"cricket\"].\n",
    "Hint: Subject,Verb and Object should be declared in the program as shown below.\n",
    "subjects=[\"Americans \",\"Indians\"] verbs=[\"play\",\"watch\"] objects=[\"Baseball\",\"Cricket\"]**\n",
    "\n",
    "### Output should come as below:\n",
    "Americans play Baseball.  \n",
    "Americans play Cricket.  \n",
    "Americans watch Baseball.  \n",
    "Americans watch Cricket.   \n",
    "Indians play Baseball.   \n",
    "Indians play Cricket.   \n",
    "Indians watch Baseball.  \n",
    "Indians watch Cricket."
   ]
  },
  {
   "cell_type": "code",
   "execution_count": 8,
   "metadata": {},
   "outputs": [
    {
     "name": "stdout",
     "output_type": "stream",
     "text": [
      "Americans play Baseball\n",
      "Americans play Cricket\n",
      "Americans watch Baseball\n",
      "Americans watch Cricket\n",
      "Indians play Baseball\n",
      "Indians play Cricket\n",
      "Indians watch Baseball\n",
      "Indians watch Cricket\n"
     ]
    }
   ],
   "source": [
    "subjects=[\"Americans\",\"Indians\"]\n",
    "verbs=[\"play\",\"watch\"] \n",
    "objects=[\"Baseball\",\"Cricket\"]\n",
    "\n",
    "for s in subjects:\n",
    "    for v in verbs:\n",
    "        for o in objects:\n",
    "            print(s,v,o,sep=' ')"
   ]
  },
  {
   "cell_type": "markdown",
   "metadata": {},
   "source": [
    "### Task 2:\n",
    "**1.Write a function so that the columns of the output matrix are powers of the input vector.\n",
    "The order of the powers is determined by the increasing boolean argument. Specifically, when increasing is False, the i-th output column is the input vector raised element-wise to the power of N - i - 1.\n",
    "HINT: Such a matrix with a geometric progression in each row is named for Alexandre- Theophile Vandermonde.**\n"
   ]
  },
  {
   "cell_type": "code",
   "execution_count": 26,
   "metadata": {},
   "outputs": [
    {
     "name": "stdout",
     "output_type": "stream",
     "text": [
      "[[1, 1, 1], [4, 2, 1], [9, 3, 1], [16, 4, 1]]\n"
     ]
    }
   ],
   "source": [
    "matrix = []\n",
    "def mat(vec,N):\n",
    "    for item in vec:\n",
    "        rows = []\n",
    "        for i in range(0,N):\n",
    "            temp = N-i-1\n",
    "            \n",
    "            rows.append(item**temp)\n",
    "            temp = 0\n",
    "        \n",
    "        matrix.append(rows)\n",
    "        \n",
    "        \n",
    "        \n",
    "    return matrix\n",
    "\n",
    "print(mat([1,2,3,4],3))"
   ]
  },
  {
   "cell_type": "code",
   "execution_count": null,
   "metadata": {},
   "outputs": [],
   "source": []
  }
 ],
 "metadata": {
  "kernelspec": {
   "display_name": "Python 3",
   "language": "python",
   "name": "python3"
  },
  "language_info": {
   "codemirror_mode": {
    "name": "ipython",
    "version": 3
   },
   "file_extension": ".py",
   "mimetype": "text/x-python",
   "name": "python",
   "nbconvert_exporter": "python",
   "pygments_lexer": "ipython3",
   "version": "3.6.8"
  }
 },
 "nbformat": 4,
 "nbformat_minor": 2
}
